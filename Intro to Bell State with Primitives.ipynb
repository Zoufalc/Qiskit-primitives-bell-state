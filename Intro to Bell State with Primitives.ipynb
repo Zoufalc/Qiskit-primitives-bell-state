{
 "cells": [
  {
   "cell_type": "markdown",
   "id": "014125f3",
   "metadata": {
    "pycharm": {
     "name": "#%% md\n"
    },
    "slideshow": {
     "slide_type": "slide"
    }
   },
   "source": [
    "# Hands-on Session on Quantum Computing with Qiskit\n",
    "<br>\n",
    "<br>\n",
    "<center>\n",
    "<img src=\"logo-with_background.svg\" alt=\"Qiskit Logo\" width=\"300\"/>\n",
    "</center>\n",
    "<center>\n",
    "<img src=\"IBM-Quantum.jpg\" alt=\"IBM Quantum\" width=\"600\"/>\n",
    "</center>"
   ]
  },
  {
   "cell_type": "markdown",
   "id": "8a572026",
   "metadata": {
    "pycharm": {
     "name": "#%% md\n"
    },
    "slideshow": {
     "slide_type": "slide"
    }
   },
   "source": [
    "## Workshop contents\n",
    "- Quantum Computing basics - bits and qubits\n",
    "- Introduction to single qubit Quantum Gates and Circuits\n",
    "- Run a simple circuit\n",
    "- Qiskit Runtime Primitives\n",
    "- Two qubit gate and entanglement\n",
    "- Running a Bell State circuit\n"
   ]
  },
  {
   "cell_type": "markdown",
   "id": "372af74d",
   "metadata": {
    "pycharm": {
     "name": "#%% md\n"
    },
    "slideshow": {
     "slide_type": "slide"
    }
   },
   "source": [
    "Let's start with importing classes and libraries."
   ]
  },
  {
   "cell_type": "code",
   "execution_count": null,
   "id": "2faaacd0",
   "metadata": {
    "pycharm": {
     "name": "#%%\n"
    }
   },
   "outputs": [],
   "source": [
    "from qiskit import QuantumCircuit\n",
    "from qiskit.primitives import Sampler, BackendSampler\n",
    "from qiskit.circuit.library import *\n",
    "from qiskit.circuit.random import random_circuit\n",
    "from qiskit.visualization import plot_histogram, array_to_latex, plot_bloch_multivector\n",
    "from qiskit.quantum_info import Statevector\n",
    "\n",
    "from qiskit_ibm_runtime import Sampler, QiskitRuntimeService, Options, Session\n",
    "from qiskit.providers.fake_provider import FakeManila\n",
    "from qiskit_aer.noise import NoiseModel\n",
    "\n",
    "import numpy as np"
   ]
  },
  {
   "cell_type": "markdown",
   "id": "fd32bc06",
   "metadata": {
    "pycharm": {
     "name": "#%% md\n"
    },
    "slideshow": {
     "slide_type": "slide"
    }
   },
   "source": [
    "## Let's start with bits - 0 & 1\n",
    "\n",
    "### bitstring = 0\n",
    "Dirac notation = $|0\\rangle$  \n",
    "matrix = $ \\begin{bmatrix} 1 \\\\ 0 \\end{bmatrix} \\, \\, \\, \\, $\n",
    "\n",
    "### bitstring = 1\n",
    "Dirac notation = $ |1\\rangle $  \n",
    "matrix = $\\begin{bmatrix} 0 \\\\ 1 \\end{bmatrix}$"
   ]
  },
  {
   "cell_type": "markdown",
   "id": "874bba2c",
   "metadata": {
    "pycharm": {
     "name": "#%% md\n"
    },
    "slideshow": {
     "slide_type": "slide"
    }
   },
   "source": [
    "## Quantum bits have richer state space\n",
    "\n",
    "**Classical:** Bits $0$ or $1$\n",
    "\n",
    "**Quantum:** Qubits $|\\phi\\rangle = \\alpha |0\\rangle + \\beta |1\\rangle$\n",
    " such that $|\\alpha|^2 + |\\beta|^2=1$ for $\\alpha, \\beta \\in \\mathbb{C}$.\n",
    "\n",
    "The fact that a qubit can exist between $|0\\rangle$ and $|1\\rangle$ is called *superposition*.\n",
    "<img src=\"BlochSphere.png\" alt=\"Bloch Sphere\" width=\"300\"/>"
   ]
  },
  {
   "cell_type": "markdown",
   "id": "0af16eda",
   "metadata": {
    "pycharm": {
     "name": "#%% md\n"
    },
    "slideshow": {
     "slide_type": "slide"
    }
   },
   "source": [
    "## Gates\n",
    "Gates are operations that act on qubits. The most commonly used gates are unitary such that $U^{\\dagger}U = I$ and therefore reversible.\n",
    "\n",
    "\n",
    "3 ways to represent quantum gates:\n",
    "- circuit description\n",
    "- Dirac notation\n",
    "- matrices\n",
    "\n",
    "Gates that act on one qubit are called single qubit gates.\n",
    "\n",
    "Gates that act on *n*-qubits are called *n*-qubit gates."
   ]
  },
  {
   "cell_type": "markdown",
   "id": "4bb685b1",
   "metadata": {
    "pycharm": {
     "name": "#%% md\n"
    },
    "slideshow": {
     "slide_type": "slide"
    }
   },
   "source": [
    "## X Gate\n",
    "\n",
    "- equivalent to a classical NOT gate (i.e. a bit flip) <img src=\"classical-not.jpg\" alt=\"Classical Not\" width=\"100\"/>\n",
    "- flips the state of the input qubit from $|0\\rangle \\rightarrow |1\\rangle$ and $|1\\rangle \\rightarrow |0\\rangle$\n"
   ]
  },
  {
   "cell_type": "code",
   "execution_count": null,
   "id": "5884545d",
   "metadata": {
    "pycharm": {
     "name": "#%%\n"
    },
    "slideshow": {
     "slide_type": "fragment"
    }
   },
   "outputs": [],
   "source": [
    "print('X (1q gate)')\n",
    "xgate = XGate()\n",
    "array_to_latex(xgate.to_matrix())"
   ]
  },
  {
   "cell_type": "markdown",
   "id": "93c7e193",
   "metadata": {
    "pycharm": {
     "name": "#%% md\n"
    },
    "slideshow": {
     "slide_type": "slide"
    }
   },
   "source": [
    "**for an X gate applied to a qubit in state 0**\n",
    "\n",
    "Dirac notation = $X|0\\rangle$ = $|1\\rangle$\n",
    "\n",
    "matrix = $ \\begin{bmatrix} 0 & 1 \\\\ 1 & 0 \\end{bmatrix} \\begin{bmatrix} 1 \\\\ 0 \\end{bmatrix} = \\begin{bmatrix} 0*1 + 1*0 \\\\ 1*1 + 0*0 \\end{bmatrix} = \\begin{bmatrix} 0 \\\\ 1 \\end{bmatrix}$\n",
    "\n",
    "**for an X gate applied to a qubit in state 1**\n",
    "\n",
    "Dirac notation = $X|1\\rangle$ = $|0\\rangle$\n",
    "\n",
    "matrix = $ \\begin{bmatrix} 0 & 1 \\\\ 1 & 0 \\end{bmatrix} \\begin{bmatrix} 0 \\\\ 1 \\end{bmatrix} = \\begin{bmatrix} 0*0 + 1*1 \\\\ 1*0 + 0*1 \\end{bmatrix} = \\begin{bmatrix} 1 \\\\ 0 \\end{bmatrix}$\n",
    "\n",
    "\n",
    "Applying a gate to a pure quantum state = matrix multiplication"
   ]
  },
  {
   "cell_type": "markdown",
   "id": "fb8c0baf",
   "metadata": {
    "pycharm": {
     "name": "#%% md\n"
    },
    "slideshow": {
     "slide_type": "slide"
    }
   },
   "source": [
    "## X Gate as a circuit\n",
    "\n",
    "- each qubit is a line (wire)\n",
    "- gates run from left to right in parallel"
   ]
  },
  {
   "cell_type": "code",
   "execution_count": null,
   "id": "d212ecdc",
   "metadata": {
    "pycharm": {
     "name": "#%%\n"
    },
    "slideshow": {
     "slide_type": "-"
    }
   },
   "outputs": [],
   "source": [
    "qc_x = QuantumCircuit(1)\n",
    "qc_x.x(0)\n",
    "qc_x.draw('mpl', scale=1.5)"
   ]
  },
  {
   "cell_type": "code",
   "execution_count": null,
   "id": "a15e01e9",
   "metadata": {
    "pycharm": {
     "name": "#%%\n"
    },
    "slideshow": {
     "slide_type": "fragment"
    }
   },
   "outputs": [],
   "source": [
    "state = Statevector(qc_x)\n",
    "plot_bloch_multivector(state)"
   ]
  },
  {
   "cell_type": "markdown",
   "id": "7e7877a2",
   "metadata": {
    "pycharm": {
     "name": "#%% md\n"
    },
    "slideshow": {
     "slide_type": "slide"
    }
   },
   "source": [
    "## Measurement\n",
    "* Our circuit is incomplete, we changed the quantum state but we have not measured it\n",
    "* Measurement takes the qubit from the quantum domain and collapses it to the classical domain\n",
    "* When we measure the result will always be a $|0\\rangle$ or a $|1\\rangle$"
   ]
  },
  {
   "cell_type": "markdown",
   "id": "66de6bd1",
   "metadata": {
    "pycharm": {
     "name": "#%% md\n"
    },
    "slideshow": {
     "slide_type": "fragment"
    }
   },
   "source": [
    "We need to rebuild our circuit with a classical register and add operations that measure the qubit state"
   ]
  },
  {
   "cell_type": "code",
   "execution_count": null,
   "id": "35ff465a",
   "metadata": {
    "pycharm": {
     "name": "#%%\n"
    },
    "scrolled": false,
    "slideshow": {
     "slide_type": "-"
    }
   },
   "outputs": [],
   "source": [
    "qc_x = QuantumCircuit(1,1)\n",
    "qc_x.x(0)\n",
    "qc_x.measure([0],[0])\n",
    "qc_x.draw('mpl', scale=1.5)"
   ]
  },
  {
   "cell_type": "markdown",
   "id": "3b170786",
   "metadata": {
    "pycharm": {
     "name": "#%% md\n"
    },
    "slideshow": {
     "slide_type": "slide"
    }
   },
   "source": [
    "## Running the circuit\n",
    "* We will run on a simulator\n",
    "* The simulator mimics a real quantum device, including noise\n",
    "* Typically run the circuit many times, sampling the output"
   ]
  },
  {
   "cell_type": "code",
   "execution_count": null,
   "id": "8aca52a5",
   "metadata": {
    "pycharm": {
     "name": "#%%\n"
    },
    "slideshow": {
     "slide_type": "slide"
    }
   },
   "outputs": [],
   "source": [
    "# load the service and set the backend to the simulator\n",
    "service = QiskitRuntimeService(channel=\"ibm_quantum\")\n",
    "backend = \"ibmq_qasm_simulator\"\n",
    "\n",
    "# Make a noise model\n",
    "fake_backend = FakeManila()\n",
    "noise_model = NoiseModel.from_backend(fake_backend)\n",
    "\n",
    "# Set options to include the noise model\n",
    "options = Options()\n",
    "options.simulator = {\n",
    "    \"noise_model\": noise_model,\n",
    "    \"basis_gates\": fake_backend.configuration().basis_gates,\n",
    "    \"coupling_map\": fake_backend.configuration().coupling_map,\n",
    "    \"seed_simulator\": 42\n",
    "}\n",
    "\n",
    "# Set number of shots, optimization_level and resilience_level\n",
    "options.execution.shots = 1000\n",
    "options.optimization_level = 0\n",
    "options.resilience_level = 0\n",
    "\n",
    "with Session(service=service, backend=backend):\n",
    "    sampler = Sampler(options=options)\n",
    "    job = sampler.run(qc_x)\n"
   ]
  },
  {
   "cell_type": "markdown",
   "id": "c05ad75d",
   "metadata": {
    "pycharm": {
     "name": "#%% md\n"
    },
    "slideshow": {
     "slide_type": "slide"
    }
   },
   "source": [
    "## The result"
   ]
  },
  {
   "cell_type": "code",
   "execution_count": null,
   "id": "f1ff0c4d",
   "metadata": {
    "pycharm": {
     "name": "#%%\n"
    },
    "scrolled": true,
    "slideshow": {
     "slide_type": "-"
    }
   },
   "outputs": [],
   "source": [
    "result_prob = job.result().quasi_dists[0].binary_probabilities()\n",
    "plot_histogram(result_prob)"
   ]
  },
  {
   "cell_type": "markdown",
   "id": "c35a39c6",
   "metadata": {
    "pycharm": {
     "name": "#%% md\n"
    },
    "slideshow": {
     "slide_type": "fragment"
    }
   },
   "source": [
    "* Not what we would expect.\n",
    "* This is the result of noise which we will explore later\n",
    "* First we need to better understand how to run circuits"
   ]
  },
  {
   "cell_type": "markdown",
   "id": "aa14d5a2",
   "metadata": {
    "pycharm": {
     "name": "#%% md\n"
    },
    "slideshow": {
     "slide_type": "slide"
    }
   },
   "source": [
    "## What is Qiskit runtime?"
   ]
  },
  {
   "cell_type": "markdown",
   "id": "bfe1c355",
   "metadata": {
    "pycharm": {
     "name": "#%% md\n"
    }
   },
   "source": [
    "Qiskit Runtime is a *quantum computing service* and *programming model* that allows users to optimize workloads and efficiently execute them on quantum systems at scale. The programming model extends the existing interface in Qiskit with a set of new primitive programs.\n",
    "<img src=\"qiskit_runtime.png\" alt=\"QiskitRuntime\"/>"
   ]
  },
  {
   "cell_type": "markdown",
   "id": "137dc519",
   "metadata": {
    "slideshow": {
     "slide_type": "slide"
    }
   },
   "source": [
    "## Why use Qiskit Runtime?\n",
    "\n",
    "\n",
    "- **Efficiency** : Highly optimized routines and options for iterative workloads designed for quantum backends\n",
    "- **Latency** : Scheduling, job prioritizing and shared caching using the Sessions framework for lower latency and faster turn result times.\n",
    "- **Consistency** : Consistent programming model to build upon complex routines across the service with newer additions to complement the existing primitive model\n",
    "- **Customizablity** : Management of iterative routines with customized circuits based on its context and paramaters of the job\n",
    "- **Error Mitigation and Suppression** : Error mitigation and suppression research advancements through simple abstracted interfaces for increased quality of information.\n",
    "\n",
    "To maximize a given _Quantum workflow_, which is predominantly a QPU on cloud + classical computation, we now have a computing programming model that conforms to a service which is built to optimize workloads with efficient execution at scale."
   ]
  },
  {
   "cell_type": "markdown",
   "id": "013ee4ce",
   "metadata": {
    "pycharm": {
     "name": "#%% md\n"
    },
    "slideshow": {
     "slide_type": "slide"
    }
   },
   "source": [
    "## Qiskit Runtime Primitives: Introducing Sampler and Estimator\n",
    "\n",
    "\n",
    "* The core capability of quantum computers that sets them apart from classical computers is their ability to generate non-classical probability distributions at their outputs. "
   ]
  },
  {
   "cell_type": "markdown",
   "id": "8a6d1c7c",
   "metadata": {
    "slideshow": {
     "slide_type": "fragment"
    }
   },
   "source": [
    "* The inherent nature of probabilistic results requires us to have multiple runs for the same circuit to generate usable information in the form of probability distributions."
   ]
  },
  {
   "cell_type": "markdown",
   "id": "c29fab54",
   "metadata": {
    "slideshow": {
     "slide_type": "fragment"
    }
   },
   "source": [
    "* The native operations that we can do with probability distributions are to sample from it or to estimate quantities from it. "
   ]
  },
  {
   "cell_type": "markdown",
   "id": "513346e7",
   "metadata": {
    "slideshow": {
     "slide_type": "fragment"
    }
   },
   "source": [
    "From these we have our two primitives named **Sampler** and **Estimator**"
   ]
  },
  {
   "cell_type": "markdown",
   "id": "b00d3cd7",
   "metadata": {
    "pycharm": {
     "name": "#%% md\n"
    },
    "slideshow": {
     "slide_type": "slide"
    }
   },
   "source": [
    "### The Sampler\n",
    "\n",
    "* takes a user circuits as an input\n",
    "* samples from its output, estimating the entire quasi-probability distribution of a given quantum circuit. \n",
    "* provides users a way to better evaluate shot results using error mitigation"
   ]
  },
  {
   "cell_type": "markdown",
   "id": "e9339df6",
   "metadata": {
    "pycharm": {
     "name": "#%% md\n"
    },
    "slideshow": {
     "slide_type": "fragment"
    }
   },
   "source": [
    "What does quasi-probability mean?\n",
    "\n",
    "- Can be negative values\n",
    "- Quantum mechanics allows for events with a negative expectation values, to acount for phenomena like destructive interference.\n",
    "\n",
    "[Reference](https://en.wikipedia.org/wiki/Quasiprobability_distribution)"
   ]
  },
  {
   "cell_type": "markdown",
   "id": "f1ddf8ff",
   "metadata": {
    "pycharm": {
     "name": "#%% md\n"
    },
    "slideshow": {
     "slide_type": "slide"
    }
   },
   "source": [
    "### The Estimator\n",
    "\n",
    "While the Sampler gives the complete distribution over the entire output, there may be times where you may be interested in information about particular outcomes.\n",
    "\n",
    "* calculates and interprets expectation values of operators of interest. \n",
    "* takes circuits and observables as inputs and allows users to selectively group between circuits and observables for execution to efficiently evaluate expectation values and variances for a given parameter input.\n",
    "* allows users to efficiently calculate and interpret expectation values of quantum operators required for many algorithms.\n",
    "\n"
   ]
  },
  {
   "cell_type": "markdown",
   "id": "7c29f005",
   "metadata": {
    "pycharm": {
     "name": "#%% md\n"
    },
    "slideshow": {
     "slide_type": "slide"
    }
   },
   "source": [
    "## Hadamard Gate\n",
    "\n",
    "- no classical equivalent\n",
    "- puts a qubit into superposition $|0\\rangle \\rightarrow \\frac{1}{\\sqrt{2}}(|0\\rangle+|1\\rangle)$ and $|1\\rangle \\rightarrow \\frac{1}{\\sqrt{2}}(|0\\rangle-|1\\rangle)$"
   ]
  },
  {
   "cell_type": "code",
   "execution_count": null,
   "id": "7ffa3b65",
   "metadata": {
    "pycharm": {
     "name": "#%%\n"
    },
    "scrolled": true,
    "slideshow": {
     "slide_type": "-"
    }
   },
   "outputs": [],
   "source": [
    "print('H (1q gate)')\n",
    "hgate = HGate()\n",
    "array_to_latex(hgate.to_matrix())"
   ]
  },
  {
   "cell_type": "markdown",
   "id": "976c3389",
   "metadata": {
    "pycharm": {
     "name": "#%% md\n"
    },
    "slideshow": {
     "slide_type": "slide"
    }
   },
   "source": [
    "**for an H gate applied to a qubit in state 0**\n",
    "\n",
    "Dirac notation = $H|0\\rangle$ = $|+\\rangle$ = $\\frac{1}{\\sqrt{2}}(|0\\rangle + |1\\rangle)$\n",
    "\n",
    "matrix = $ \\frac{1}{\\sqrt{2}}\\begin{bmatrix} 1 & 1 \\\\ 1 & -1 \\end{bmatrix} \\begin{bmatrix} 1 \\\\ 0 \\end{bmatrix}$\n",
    "\n",
    "\n",
    "**for an H gate applied to a qubit in state 1**\n",
    "\n",
    "Dirac notation = $H|1\\rangle$ = $|-\\rangle$ = $\\frac{1}{\\sqrt{2}}(|0\\rangle - |1\\rangle)$\n",
    "\n",
    "matrix = $ \\frac{1}{\\sqrt{2}}\\begin{bmatrix} 1 & 1 \\\\ 1 & -1 \\end{bmatrix} \\begin{bmatrix} 0 \\\\ 1 \\end{bmatrix}$"
   ]
  },
  {
   "cell_type": "code",
   "execution_count": null,
   "id": "b1b05cda",
   "metadata": {
    "pycharm": {
     "name": "#%%\n"
    },
    "slideshow": {
     "slide_type": "slide"
    }
   },
   "outputs": [],
   "source": [
    "qc_h = QuantumCircuit(1,1)\n",
    "qc_h.h(0)\n",
    "qc_h.draw('mpl', scale=1.5)"
   ]
  },
  {
   "cell_type": "code",
   "execution_count": null,
   "id": "1c6cedba",
   "metadata": {
    "pycharm": {
     "name": "#%%\n"
    },
    "slideshow": {
     "slide_type": "fragment"
    }
   },
   "outputs": [],
   "source": [
    "state = Statevector(qc_h)\n",
    "plot_bloch_multivector(state)"
   ]
  },
  {
   "cell_type": "code",
   "execution_count": null,
   "id": "1945bbdf",
   "metadata": {
    "pycharm": {
     "name": "#%%\n"
    },
    "slideshow": {
     "slide_type": "slide"
    }
   },
   "outputs": [],
   "source": [
    "qc_h.measure([0],[0])\n",
    "\n",
    "with Session(service=service, backend=backend):\n",
    "    sampler = Sampler(options=options)\n",
    "    job = sampler.run(qc_h)\n",
    "\n",
    "result_prob = job.result().quasi_dists[0].binary_probabilities()\n",
    "plot_histogram(result_prob)"
   ]
  },
  {
   "cell_type": "markdown",
   "id": "00f7e8cb",
   "metadata": {
    "pycharm": {
     "name": "#%% md\n"
    },
    "slideshow": {
     "slide_type": "slide"
    }
   },
   "source": [
    "## Error mitigation\n",
    "\n",
    "- There are techniques that allow some of the quantum errors to be mitigated\n",
    "- Some are simple (low cost) others can be quite complex (exponential cost)\n",
    "- Primitives have a very simple knob to allow choosing different mitigation levels"
   ]
  },
  {
   "cell_type": "code",
   "execution_count": null,
   "id": "ba3b2c14",
   "metadata": {
    "pycharm": {
     "name": "#%%\n"
    },
    "slideshow": {
     "slide_type": "fragment"
    }
   },
   "outputs": [],
   "source": [
    "options.resilience_level = 1  # add in M3 measurement mitigation\n",
    "\n",
    "with Session(service=service, backend=backend):\n",
    "    sampler = Sampler(options=options)\n",
    "    job = sampler.run(qc_h)\n",
    "\n",
    "result_prob = job.result().quasi_dists[0].binary_probabilities()\n",
    "plot_histogram(result_prob)"
   ]
  },
  {
   "cell_type": "markdown",
   "id": "a2a4d303",
   "metadata": {
    "pycharm": {
     "name": "#%% md\n"
    },
    "slideshow": {
     "slide_type": "slide"
    }
   },
   "source": [
    "## A 2 qubit gate: Controlled-Not Gate\n",
    "This gate can be referred to as CNOT or CX. This 2-qubit gate applies a bit flip on one qubit depending on the state of another qubit.\n"
   ]
  },
  {
   "cell_type": "code",
   "execution_count": null,
   "id": "e707b473",
   "metadata": {
    "pycharm": {
     "name": "#%%\n"
    },
    "slideshow": {
     "slide_type": "-"
    }
   },
   "outputs": [],
   "source": [
    "qc_cx = QuantumCircuit(2)\n",
    "qc_cx.cx(0,1)\n",
    "qc_cx.draw('mpl')"
   ]
  },
  {
   "cell_type": "markdown",
   "id": "27a271f0",
   "metadata": {
    "pycharm": {
     "name": "#%% md\n"
    },
    "slideshow": {
     "slide_type": "fragment"
    }
   },
   "source": [
    "If q0 = 1, q1 flips  \n",
    "if q0 = 0, q1 doesn't flip\n",
    "\n",
    "\n",
    "so if q0 = 1, then if q1 was 0 it will become 1, if q1 was 1 it will become 0    \n",
    "and if q0 = 0, then q1 is unchanged\n",
    "\n",
    "Dirac notation:\n",
    "$CNOT|00\\rangle = |00\\rangle$\n",
    "$CNOT|10\\rangle = |11\\rangle$"
   ]
  },
  {
   "cell_type": "markdown",
   "id": "fafd86a5",
   "metadata": {
    "pycharm": {
     "name": "#%% md\n"
    },
    "slideshow": {
     "slide_type": "slide"
    }
   },
   "source": [
    "## Matrix representation\n",
    "* Because it applies to two qubits, the matrix is 4 x 4.  \n",
    "* It creates a state that increases the state space by a factor of 2\n",
    "* This is an entanging operation, as we entangle more qubits the state space grows exponentially\n"
   ]
  },
  {
   "cell_type": "code",
   "execution_count": null,
   "id": "8d0f06a4",
   "metadata": {
    "pycharm": {
     "name": "#%%\n"
    },
    "scrolled": true,
    "slideshow": {
     "slide_type": "-"
    }
   },
   "outputs": [],
   "source": [
    "print('CX (2q gate)')\n",
    "cxgate = CXGate()\n",
    "array_to_latex(cxgate.to_matrix())"
   ]
  },
  {
   "cell_type": "markdown",
   "id": "ace42323",
   "metadata": {
    "pycharm": {
     "name": "#%% md\n"
    },
    "slideshow": {
     "slide_type": "slide"
    }
   },
   "source": [
    "## Basic 2 qubit circuit"
   ]
  },
  {
   "cell_type": "code",
   "execution_count": null,
   "id": "bf9a0f46",
   "metadata": {
    "pycharm": {
     "name": "#%%\n"
    }
   },
   "outputs": [],
   "source": [
    "qc2 = QuantumCircuit(2, 2)\n",
    "qc2.h(0)\n",
    "qc2.h(1)\n",
    "qc2.draw('mpl', scale=1.5)"
   ]
  },
  {
   "cell_type": "code",
   "execution_count": null,
   "id": "8694581b",
   "metadata": {
    "pycharm": {
     "name": "#%%\n"
    },
    "slideshow": {
     "slide_type": "fragment"
    }
   },
   "outputs": [],
   "source": [
    "state = Statevector(qc2)\n",
    "plot_bloch_multivector(state)"
   ]
  },
  {
   "cell_type": "code",
   "execution_count": null,
   "id": "f4105dba",
   "metadata": {
    "pycharm": {
     "name": "#%%\n"
    },
    "slideshow": {
     "slide_type": "slide"
    }
   },
   "outputs": [],
   "source": [
    "qc2.measure([0,1],[0,1])\n",
    "\n",
    "options.resilience_level = 0  # no error mitigation\n",
    "\n",
    "with Session(service=service, backend=backend):\n",
    "    sampler = Sampler(options=options)\n",
    "    job = sampler.run(qc2)\n",
    "\n",
    "result_prob = job.result().quasi_dists[0].binary_probabilities()\n",
    "plot_histogram(result_prob)"
   ]
  },
  {
   "cell_type": "markdown",
   "id": "bd061a69",
   "metadata": {
    "pycharm": {
     "name": "#%% md\n"
    },
    "slideshow": {
     "slide_type": "fragment"
    }
   },
   "source": [
    "* Expected that we should have equal distribution of all states.  \n",
    "* Noise is a problem again"
   ]
  },
  {
   "cell_type": "code",
   "execution_count": null,
   "id": "5eeab3ed",
   "metadata": {
    "pycharm": {
     "name": "#%%\n"
    },
    "slideshow": {
     "slide_type": "slide"
    }
   },
   "outputs": [],
   "source": [
    "options.resilience_level = 1  # add in M3 measurement mitigation\n",
    "\n",
    "with Session(service=service, backend=backend):\n",
    "    sampler = Sampler(options=options)\n",
    "    job = sampler.run(qc2)\n",
    "\n",
    "result_prob = job.result().quasi_dists[0].binary_probabilities()\n",
    "plot_histogram(result_prob)"
   ]
  },
  {
   "cell_type": "markdown",
   "id": "944271b2",
   "metadata": {
    "pycharm": {
     "name": "#%% md\n"
    },
    "slideshow": {
     "slide_type": "fragment"
    }
   },
   "source": [
    "With error mitigation results are much closer to ideal"
   ]
  },
  {
   "cell_type": "markdown",
   "id": "8c7a4384",
   "metadata": {
    "pycharm": {
     "name": "#%% md\n"
    },
    "slideshow": {
     "slide_type": "slide"
    }
   },
   "source": [
    "## The Bell State\n",
    "\n",
    "- Simplest implementation of entanglement\n",
    "- Apply a Hadamard on q0 followed by a CNOT: control = q0, target = q1\n",
    "\n",
    "$$ |\\phi_{\\text{Bell}}\\rangle = \\frac{1}{\\sqrt{2}}(|00\\rangle + |11\\rangle) $$"
   ]
  },
  {
   "cell_type": "markdown",
   "id": "caacc196",
   "metadata": {
    "pycharm": {
     "name": "#%% md\n"
    },
    "slideshow": {
     "slide_type": "slide"
    }
   },
   "source": [
    "## Circuit Construction"
   ]
  },
  {
   "cell_type": "code",
   "execution_count": null,
   "id": "91092a49",
   "metadata": {
    "pycharm": {
     "name": "#%%\n"
    }
   },
   "outputs": [],
   "source": [
    "qc_bell = QuantumCircuit(2, 2)\n",
    "qc_bell.h(0)\n",
    "qc_bell.cx(0,1)\n",
    "qc_bell.draw('mpl')"
   ]
  },
  {
   "cell_type": "code",
   "execution_count": null,
   "id": "b7f8c327",
   "metadata": {
    "pycharm": {
     "name": "#%%\n"
    },
    "slideshow": {
     "slide_type": "fragment"
    }
   },
   "outputs": [],
   "source": [
    "state = Statevector(qc_bell)\n",
    "plot_bloch_multivector(state)"
   ]
  },
  {
   "cell_type": "markdown",
   "id": "23d1269a",
   "metadata": {
    "pycharm": {
     "name": "#%% md\n"
    },
    "slideshow": {
     "slide_type": "fragment"
    }
   },
   "source": [
    "Whoops!  We can't visualize this state!"
   ]
  },
  {
   "cell_type": "markdown",
   "id": "8dfdcc2a",
   "metadata": {
    "pycharm": {
     "name": "#%% md\n"
    },
    "slideshow": {
     "slide_type": "slide"
    }
   },
   "source": [
    "## Let's check the measurement statistics"
   ]
  },
  {
   "cell_type": "code",
   "execution_count": null,
   "id": "ff00cc21",
   "metadata": {
    "pycharm": {
     "name": "#%%\n"
    },
    "slideshow": {
     "slide_type": "-"
    }
   },
   "outputs": [],
   "source": [
    "qc_bell.measure([0,1],[0,1]) # add the measurement\n",
    "options.resilience_level = 0  # no mitigation\n",
    "\n",
    "with Session(service=service, backend=backend):\n",
    "    sampler = Sampler(options=options)\n",
    "    job = sampler.run(qc_bell)\n",
    "\n",
    "result_prob = job.result().quasi_dists[0].binary_probabilities()\n",
    "plot_histogram(result_prob)"
   ]
  },
  {
   "cell_type": "markdown",
   "id": "192069c3",
   "metadata": {
    "pycharm": {
     "name": "#%% md\n"
    },
    "slideshow": {
     "slide_type": "slide"
    }
   },
   "source": [
    "## Use error mitigation to improve the result"
   ]
  },
  {
   "cell_type": "code",
   "execution_count": null,
   "id": "53080636",
   "metadata": {
    "pycharm": {
     "name": "#%%\n"
    },
    "slideshow": {
     "slide_type": "-"
    }
   },
   "outputs": [],
   "source": [
    "options.resilience_level = 1  # add in M3 measurement mitigation\n",
    "\n",
    "with Session(service=service, backend=backend):\n",
    "    sampler = Sampler(options=options)\n",
    "    job = sampler.run(qc_bell)\n",
    "\n",
    "result_prob = job.result().quasi_dists[0].binary_probabilities()\n",
    "plot_histogram(result_prob)"
   ]
  },
  {
   "cell_type": "code",
   "execution_count": null,
   "id": "3aacf291",
   "metadata": {
    "pycharm": {
     "name": "#%%\n"
    },
    "slideshow": {
     "slide_type": "fragment"
    }
   },
   "outputs": [],
   "source": [
    "print(result_prob)"
   ]
  },
  {
   "cell_type": "markdown",
   "id": "97b7c46d",
   "metadata": {
    "pycharm": {
     "name": "#%% md\n"
    },
    "slideshow": {
     "slide_type": "slide"
    }
   },
   "source": [
    "## Run your Bell State on real hardware"
   ]
  },
  {
   "cell_type": "code",
   "execution_count": null,
   "id": "909a6558",
   "metadata": {
    "pycharm": {
     "name": "#%%\n"
    }
   },
   "outputs": [],
   "source": [
    "least_busy_device = service.least_busy(filters=lambda b: b.configuration().simulator==False)\n",
    "least_busy_device"
   ]
  },
  {
   "cell_type": "code",
   "execution_count": null,
   "id": "a8124fdd",
   "metadata": {
    "pycharm": {
     "name": "#%%\n"
    }
   },
   "outputs": [],
   "source": [
    "hw_result = None\n",
    "with Session(service, backend=least_busy_device) as session:\n",
    "    \n",
    "    options = Options(resilience_level=0)\n",
    "    sampler0 = Sampler(options=options)\n",
    "    options = Options(resilience_level=1)\n",
    "    sampler1 = Sampler(options=options)\n",
    "    job0 = sampler0.run(circuits=[qc_bell], shots=8000)\n",
    "    job1 = sampler1.run(circuits=[qc_bell], shots=8000)\n",
    "    \n",
    "    # You can see that the results are quasi probabilities, not counts\n",
    "    hw_results = [job0.result().quasi_dists[0].binary_probabilities(), \n",
    "                  job1.result().quasi_dists[0].binary_probabilities()]"
   ]
  },
  {
   "cell_type": "markdown",
   "id": "109485e7",
   "metadata": {
    "pycharm": {
     "name": "#%% md\n"
    },
    "slideshow": {
     "slide_type": "slide"
    }
   },
   "source": [
    "## Results"
   ]
  },
  {
   "cell_type": "code",
   "execution_count": null,
   "id": "e4a4123f",
   "metadata": {
    "pycharm": {
     "name": "#%%\n"
    },
    "slideshow": {
     "slide_type": "-"
    }
   },
   "outputs": [],
   "source": [
    "print('Results resilience level 0 ', hw_results[0])\n",
    "print('Results resilience level 1 ', hw_results[1])"
   ]
  },
  {
   "cell_type": "code",
   "execution_count": null,
   "id": "eccca5db",
   "metadata": {
    "pycharm": {
     "name": "#%%\n"
    }
   },
   "outputs": [],
   "source": [
    "plot_histogram(hw_results, legend=['resilience 0', 'resilience 1'])"
   ]
  },
  {
   "cell_type": "markdown",
   "id": "b2eda034",
   "metadata": {
    "pycharm": {
     "name": "#%% md\n"
    },
    "slideshow": {
     "slide_type": "slide"
    }
   },
   "source": [
    "## To learn more"
   ]
  },
  {
   "cell_type": "markdown",
   "id": "93689571",
   "metadata": {},
   "source": [
    "* Qiskit textbook  https://qiskit.org/learn/\n",
    "* Qiskit tutorials https://qiskit.org/documentation/partners/qiskit_ibm_runtime/tutorials.html\n",
    "* Additional notebooks in the Quantum Lab\n"
   ]
  },
  {
   "cell_type": "markdown",
   "id": "71ab2ca6",
   "metadata": {
    "slideshow": {
     "slide_type": "slide"
    }
   },
   "source": [
    "<center>\n",
    "<img src=\"IBM-Quantum.jpg\" alt=\"IBM Quantum\" width=\"600\"/>\n",
    "</center>"
   ]
  }
 ],
 "metadata": {
  "celltoolbar": "Slideshow",
  "kernelspec": {
   "display_name": "qiskit18",
   "language": "python",
   "name": "qiskit18"
  },
  "language_info": {
   "codemirror_mode": {
    "name": "ipython",
    "version": 3
   },
   "file_extension": ".py",
   "mimetype": "text/x-python",
   "name": "python",
   "nbconvert_exporter": "python",
   "pygments_lexer": "ipython3",
   "version": "3.8.5"
  }
 },
 "nbformat": 4,
 "nbformat_minor": 5
}
