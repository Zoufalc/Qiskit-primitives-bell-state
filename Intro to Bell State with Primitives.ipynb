{
 "cells": [
  {
   "cell_type": "markdown",
   "id": "7f077b26",
   "metadata": {
    "pycharm": {
     "name": "#%% md\n"
    },
    "slideshow": {
     "slide_type": "slide"
    }
   },
   "source": [
    "# Hands-on Session on Quantum Computing with Qiskit\n",
    "<br>\n",
    "<br>\n",
    "<center>\n",
    "<img src=\"logo-with_background.svg\" alt=\"Qiskit Logo\" width=\"300\"/>\n",
    "</center>\n",
    "<center>\n",
    "<img src=\"IBM-Quantum.jpg\" alt=\"IBM Quantum\" width=\"600\"/>\n",
    "</center>"
   ]
  },
  {
   "cell_type": "markdown",
   "id": "124021a0",
   "metadata": {
    "pycharm": {
     "name": "#%% md\n"
    },
    "slideshow": {
     "slide_type": "slide"
    }
   },
   "source": [
    "## Workshop contents\n",
    "- Quantum computing basics\n",
    "- Entanglement and superposition\n",
    "- Introduction to quantum gates and circuits\n",
    "- Running quantum circuits with Qiskit Runtime Primitives\n",
    "- Using error mitigation\n",
    "- Generating a Bell state\n"
   ]
  },
  {
   "cell_type": "markdown",
   "id": "8ac88470",
   "metadata": {
    "pycharm": {
     "name": "#%% md\n"
    },
    "slideshow": {
     "slide_type": "slide"
    }
   },
   "source": [
    "Let's start with importing classes and libraries."
   ]
  },
  {
   "cell_type": "code",
   "execution_count": null,
   "id": "31e9b71a",
   "metadata": {
    "pycharm": {
     "name": "#%%\n"
    }
   },
   "outputs": [],
   "source": [
    "from qiskit import QuantumCircuit\n",
    "from qiskit.circuit.library import *\n",
    "from qiskit.circuit.random import random_circuit\n",
    "from qiskit.visualization import plot_histogram, array_to_latex, plot_bloch_multivector\n",
    "from qiskit.quantum_info import Statevector\n",
    "\n",
    "from qiskit_ibm_runtime import Sampler, QiskitRuntimeService, Options, Session\n",
    "from qiskit.providers.fake_provider import FakeManila\n",
    "from qiskit_aer.noise import NoiseModel\n",
    "\n",
    "import numpy as np"
   ]
  },
  {
   "cell_type": "markdown",
   "id": "6127ab1f",
   "metadata": {
    "pycharm": {
     "name": "#%% md\n"
    },
    "slideshow": {
     "slide_type": "slide"
    }
   },
   "source": [
    "## Let's start with the information carriers\n",
    "\n",
    "### bit basis \n",
    "$\\{0, 1\\}$\n",
    "\n",
    "### qubit basis \n",
    "Dirac notation $\\{|0\\rangle, |1\\rangle \\}$  <br><br>\n",
    "Vector notation $\\left\\{\\begin{bmatrix} 1 \\\\ 0 \\end{bmatrix}, \\begin{bmatrix} 0 \\\\ 1 \\end{bmatrix}\\right\\}$"
   ]
  },
  {
   "cell_type": "markdown",
   "id": "cb98b507",
   "metadata": {
    "pycharm": {
     "name": "#%% md\n"
    },
    "slideshow": {
     "slide_type": "slide"
    }
   },
   "source": [
    "## Quantum bits have richer state space\n",
    "\n",
    "**Classical:** Bits $0$ or $1$\n",
    "\n",
    "**Quantum:** Qubits \n",
    "\n",
    "$$|\\phi\\rangle = \\alpha |0\\rangle + \\beta |1\\rangle$$\n",
    "\n",
    "such that $|\\alpha|^2 + |\\beta|^2=1$ for $\\alpha, \\beta \\in \\mathbb{C}$.\n",
    "In vector notation this equals $\\begin{bmatrix} \\alpha \\\\ \\beta \\end{bmatrix}$.\n",
    "\n",
    "The fact that a qubit can exist between $|0\\rangle$ and $|1\\rangle$ is called *superposition*.\n",
    "<img src=\"BlochSphere.png\" alt=\"Bloch Sphere\" width=\"300\"/>"
   ]
  },
  {
   "cell_type": "markdown",
   "id": "2858f820",
   "metadata": {
    "pycharm": {
     "name": "#%% md\n"
    },
    "slideshow": {
     "slide_type": "slide"
    }
   },
   "source": [
    "## Gates\n",
    "Gates are operations that act on qubits. The most commonly used gates are unitary such that $U^{\\dagger}U = I$ and therefore reversible.\n",
    "\n",
    "\n",
    "3 ways to represent quantum gates:\n",
    "- Matrices\n",
    "- Dirac notation\n",
    "- Circuit description\n",
    "\n",
    "Gates that act on 1 qubit are called single qubit gates.\n",
    "\n",
    "Gates that act on *n* qubits are called *n*-qubit gates."
   ]
  },
  {
   "cell_type": "markdown",
   "id": "0fdd0012",
   "metadata": {
    "pycharm": {
     "name": "#%% md\n"
    },
    "slideshow": {
     "slide_type": "slide"
    }
   },
   "source": [
    "## X Gate\n",
    "\n",
    "- equivalent to a classical NOT gate (i.e. a bit flip) <img src=\"classical-not.jpg\" alt=\"Classical Not\" width=\"100\"/>\n",
    "- flips the state of the input qubit from\n",
    "$$|0\\rangle \\rightarrow |1\\rangle$$\n",
    "and\n",
    "$$|1\\rangle \\rightarrow |0\\rangle$$\n"
   ]
  },
  {
   "cell_type": "code",
   "execution_count": null,
   "id": "2f983801",
   "metadata": {
    "pycharm": {
     "name": "#%%\n"
    },
    "slideshow": {
     "slide_type": "fragment"
    }
   },
   "outputs": [],
   "source": [
    "print('X (1q gate)')\n",
    "xgate = XGate()\n",
    "array_to_latex(xgate.to_matrix())"
   ]
  },
  {
   "cell_type": "markdown",
   "id": "0f31ee2c",
   "metadata": {
    "pycharm": {
     "name": "#%% md\n"
    },
    "slideshow": {
     "slide_type": "slide"
    }
   },
   "source": [
    "**X gate applied to a qubit in state 0**\n",
    "\n",
    "Dirac notation: $X|0\\rangle$ = $|1\\rangle$\n",
    "\n",
    "Matrix: $ \\begin{bmatrix} 0 & 1 \\\\ 1 & 0 \\end{bmatrix} \\begin{bmatrix} 1 \\\\ 0 \\end{bmatrix} = \\begin{bmatrix} 0*1 + 1*0 \\\\ 1*1 + 0*0 \\end{bmatrix} = \\begin{bmatrix} 0 \\\\ 1 \\end{bmatrix}$\n",
    "\n",
    "**X gate applied to a qubit in state 1**\n",
    "\n",
    "Dirac notation: $X|1\\rangle$ = $|0\\rangle$\n",
    "\n",
    "Matrix: $ \\begin{bmatrix} 0 & 1 \\\\ 1 & 0 \\end{bmatrix} \\begin{bmatrix} 0 \\\\ 1 \\end{bmatrix} = \\begin{bmatrix} 0*0 + 1*1 \\\\ 1*0 + 0*1 \\end{bmatrix} = \\begin{bmatrix} 1 \\\\ 0 \\end{bmatrix}$\n",
    "\n",
    "\n",
    "Applying a gate to a pure quantum state --> matrix multiplication"
   ]
  },
  {
   "cell_type": "markdown",
   "id": "9ed5679f",
   "metadata": {
    "pycharm": {
     "name": "#%% md\n"
    },
    "slideshow": {
     "slide_type": "slide"
    }
   },
   "source": [
    "## Quantum circuits\n",
    "\n",
    "- each qubit is a line (wire)\n",
    "- gates run from left to right"
   ]
  },
  {
   "cell_type": "code",
   "execution_count": null,
   "id": "a221a04d",
   "metadata": {
    "pycharm": {
     "name": "#%%\n"
    },
    "slideshow": {
     "slide_type": "-"
    }
   },
   "outputs": [],
   "source": [
    "qc_x = QuantumCircuit(1)\n",
    "qc_x.x(0)\n",
    "qc_x.draw('mpl', scale=1.5)"
   ]
  },
  {
   "cell_type": "code",
   "execution_count": null,
   "id": "c32cbfe8",
   "metadata": {
    "pycharm": {
     "name": "#%%\n"
    },
    "slideshow": {
     "slide_type": "fragment"
    }
   },
   "outputs": [],
   "source": [
    "state = Statevector(qc_x)\n",
    "plot_bloch_multivector(state)"
   ]
  },
  {
   "cell_type": "markdown",
   "id": "e2de03c6",
   "metadata": {
    "pycharm": {
     "name": "#%% md\n"
    },
    "slideshow": {
     "slide_type": "slide"
    }
   },
   "source": [
    "## Measurement\n",
    "* Our circuit is incomplete, we changed the quantum state but we have not measured it.\n",
    "* Measurement takes the qubit from the quantum domain and collapses it to the classical domain.\n",
    "* When we measure the result will always be a $|0\\rangle$ or a $|1\\rangle$ - we need to conduct measurements w.r.t. a basis.\n",
    "\n",
    "Let's consider again $$|\\phi\\rangle = \\alpha |0\\rangle + \\beta |1\\rangle.$$\n",
    "\n",
    "The probability to measure $|0\\rangle$ respectively $|1\\rangle$ is $|\\alpha|^2$ respectively $|\\beta|^2$.\n",
    "<img src=\"BlochSphere.png\" alt=\"Bloch Sphere\" width=\"300\"/>"
   ]
  },
  {
   "cell_type": "markdown",
   "id": "b24d176c",
   "metadata": {
    "pycharm": {
     "name": "#%% md\n"
    },
    "slideshow": {
     "slide_type": "slide"
    }
   },
   "source": [
    "We need to rebuild our circuit with a classical register and add operations that measure the qubit state"
   ]
  },
  {
   "cell_type": "code",
   "execution_count": null,
   "id": "9a4dd736",
   "metadata": {
    "pycharm": {
     "name": "#%%\n"
    },
    "scrolled": false,
    "slideshow": {
     "slide_type": "-"
    }
   },
   "outputs": [],
   "source": [
    "qc_x = QuantumCircuit(1,1)\n",
    "qc_x.x(0)\n",
    "qc_x.measure([0],[0])\n",
    "qc_x.draw('mpl', scale=1.5)"
   ]
  },
  {
   "cell_type": "markdown",
   "id": "54693360",
   "metadata": {
    "pycharm": {
     "name": "#%% md\n"
    },
    "slideshow": {
     "slide_type": "slide"
    }
   },
   "source": [
    "## Running the circuit\n",
    "We will run on a simulator which mimics a real quantum device - including noise.\n",
    "Typically, we run the circuit many times and get multiple output samples."
   ]
  },
  {
   "cell_type": "code",
   "execution_count": null,
   "id": "2e408c0b",
   "metadata": {
    "pycharm": {
     "is_executing": true,
     "name": "#%%\n"
    },
    "slideshow": {
     "slide_type": "slide"
    }
   },
   "outputs": [],
   "source": [
    "# load the service and set the backend to the simulator\n",
    "service = QiskitRuntimeService(channel=\"ibm_quantum\")\n",
    "backend = \"ibmq_qasm_simulator\"\n",
    "\n",
    "# Make a noise model\n",
    "fake_backend = FakeManila()\n",
    "noise_model = NoiseModel.from_backend(fake_backend)\n",
    "\n",
    "# Set options to include the noise model\n",
    "options = Options()\n",
    "options.simulator = {\n",
    "    \"noise_model\": noise_model,\n",
    "    \"basis_gates\": fake_backend.configuration().basis_gates,\n",
    "    \"coupling_map\": fake_backend.configuration().coupling_map,\n",
    "    \"seed_simulator\": 42\n",
    "}\n",
    "\n",
    "# Set number of shots, optimization_level and resilience_level\n",
    "options.execution.shots = 1000\n",
    "options.optimization_level = 0\n",
    "options.resilience_level = 0\n",
    "\n",
    "with Session(service=service, backend=backend):\n",
    "    sampler = Sampler(options=options)\n",
    "    job = sampler.run(qc_x)\n"
   ]
  },
  {
   "cell_type": "markdown",
   "id": "b1e16514",
   "metadata": {
    "pycharm": {
     "name": "#%% md\n"
    },
    "slideshow": {
     "slide_type": "slide"
    }
   },
   "source": [
    "## The result"
   ]
  },
  {
   "cell_type": "code",
   "execution_count": null,
   "id": "f8b58057",
   "metadata": {
    "pycharm": {
     "is_executing": true,
     "name": "#%%\n"
    },
    "scrolled": true,
    "slideshow": {
     "slide_type": "-"
    }
   },
   "outputs": [],
   "source": [
    "result_prob = job.result().quasi_dists[0].binary_probabilities()\n",
    "plot_histogram(result_prob)"
   ]
  },
  {
   "cell_type": "markdown",
   "id": "0287fd46",
   "metadata": {
    "pycharm": {
     "name": "#%% md\n"
    },
    "slideshow": {
     "slide_type": "fragment"
    }
   },
   "source": [
    "* The outcome does not reflect exactly what we would expect.\n",
    "* This is the result of physical noise which we will explore later.\n",
    "* First, we need to better understand how to run circuits."
   ]
  },
  {
   "cell_type": "markdown",
   "id": "c79aae14",
   "metadata": {
    "pycharm": {
     "name": "#%% md\n"
    },
    "slideshow": {
     "slide_type": "slide"
    }
   },
   "source": [
    "## Qiskit Runtime Primitives: Introducing Sampler and Estimator\n",
    "\n",
    "\n",
    "The core capability of quantum computers that sets them apart from classical computers is their ability to generate non-classical probability distributions at their outputs. "
   ]
  },
  {
   "cell_type": "markdown",
   "id": "42e1fd7a",
   "metadata": {
    "pycharm": {
     "name": "#%% md\n"
    },
    "slideshow": {
     "slide_type": "fragment"
    }
   },
   "source": [
    "The inherent nature of probabilistic results requires us to have multiple runs for the same circuit to generate usable information in the form of probability distributions."
   ]
  },
  {
   "cell_type": "markdown",
   "id": "5a24e3dd",
   "metadata": {
    "pycharm": {
     "name": "#%% md\n"
    },
    "slideshow": {
     "slide_type": "fragment"
    }
   },
   "source": [
    "The native operations that we can do with probability distributions are to sample from it or to estimate quantities from it. "
   ]
  },
  {
   "cell_type": "markdown",
   "id": "659ef3e4",
   "metadata": {
    "pycharm": {
     "name": "#%% md\n"
    },
    "slideshow": {
     "slide_type": "fragment"
    }
   },
   "source": [
    "From these we have our two primitives named **Sampler** and **Estimator**."
   ]
  },
  {
   "cell_type": "markdown",
   "id": "5f4e0016",
   "metadata": {
    "pycharm": {
     "name": "#%% md\n"
    },
    "slideshow": {
     "slide_type": "slide"
    }
   },
   "source": [
    "### The Sampler\n",
    "\n",
    "* takes circuits as an input.\n",
    "* samples from its output, estimating the entire quasi-probability distribution of a given quantum circuit. \n",
    "* provides users a way to better evaluate shot results using error mitigation."
   ]
  },
  {
   "cell_type": "markdown",
   "id": "5f692fc4",
   "metadata": {
    "pycharm": {
     "name": "#%% md\n"
    },
    "slideshow": {
     "slide_type": "fragment"
    }
   },
   "source": [
    "What does quasi-probability mean?\n",
    "\n",
    "- Can have negative values, but sums up to 1.\n",
    "- Readout error mitigation is a post-processing that can introduce negative values (will be introduced in a second).\n",
    "\n",
    "[Reference](https://en.wikipedia.org/wiki/Quasiprobability_distribution)"
   ]
  },
  {
   "cell_type": "markdown",
   "id": "38ab8ccd",
   "metadata": {
    "pycharm": {
     "name": "#%% md\n"
    },
    "slideshow": {
     "slide_type": "slide"
    }
   },
   "source": [
    "### The Estimator\n",
    "\n",
    "While the Sampler gives the complete distribution over the entire output, there may be times where you may be interested in information about particular outcomes.\n",
    "\n",
    "* calculates and interprets expectation values of operators of interest. \n",
    "* takes circuits and observables as inputs and allows users to selectively group between circuits and observables for execution to efficiently evaluate expectation values and variances for a given parameter input.\n",
    "* allows users to efficiently calculate and interpret expectation values of quantum operators required for many algorithms.\n",
    "\n"
   ]
  },
  {
   "cell_type": "markdown",
   "id": "cd0e8eb5",
   "metadata": {
    "pycharm": {
     "name": "#%% md\n"
    },
    "slideshow": {
     "slide_type": "slide"
    }
   },
   "source": [
    "## What is Qiskit Runtime?"
   ]
  },
  {
   "cell_type": "markdown",
   "id": "cde25689",
   "metadata": {
    "pycharm": {
     "name": "#%% md\n"
    }
   },
   "source": [
    "Qiskit Runtime is a *quantum computing service* and *programming model* that allows users to optimize workloads and efficiently execute them on quantum systems at scale. The programming model extends the existing interface in Qiskit with a set of new primitive programs.\n",
    "<img src=\"qiskit_runtime.png\" alt=\"QiskitRuntime\"/>"
   ]
  },
  {
   "cell_type": "markdown",
   "id": "b9a6e1ab",
   "metadata": {
    "pycharm": {
     "name": "#%% md\n"
    },
    "slideshow": {
     "slide_type": "slide"
    }
   },
   "source": [
    "## Why use Qiskit Runtime?\n",
    "\n",
    "\n",
    "- **Efficiency** : Highly optimized routines and options for iterative workloads designed for quantum backends\n",
    "- **Latency** : Scheduling, job prioritizing and shared caching using the Sessions framework for lower latency and faster turn result times.\n",
    "- **Consistency** : Consistent programming model to build upon complex routines across the service with newer additions to complement the existing primitive model\n",
    "- **Customizablity** : Management of iterative routines with customized circuits based on its context and paramaters of the job\n",
    "- **Error Mitigation and Suppression** : Error mitigation and suppression research advancements through simple abstracted interfaces for increased quality of information.\n",
    "\n",
    "To maximize a given *Quantum workflow*, which is predominantly a QPU on cloud + classical computation, we now have a computing programming model that conforms to a service which is built to optimize workloads with efficient execution at scale."
   ]
  },
  {
   "cell_type": "markdown",
   "id": "4b08d6fd",
   "metadata": {
    "pycharm": {
     "name": "#%% md\n"
    },
    "slideshow": {
     "slide_type": "slide"
    }
   },
   "source": [
    "## Hadamard gate\n",
    "\n",
    "- no classical equivalent\n",
    "- puts a qubit into superposition \n",
    "$$|0\\rangle \\rightarrow \\frac{1}{\\sqrt{2}}(|0\\rangle+|1\\rangle)$$\n",
    "and \n",
    "$$|1\\rangle \\rightarrow \\frac{1}{\\sqrt{2}}(|0\\rangle-|1\\rangle)$$"
   ]
  },
  {
   "cell_type": "code",
   "execution_count": null,
   "id": "7aed9ef3",
   "metadata": {
    "pycharm": {
     "is_executing": true,
     "name": "#%%\n"
    },
    "scrolled": true,
    "slideshow": {
     "slide_type": "-"
    }
   },
   "outputs": [],
   "source": [
    "print('H (1q gate)')\n",
    "hgate = HGate()\n",
    "array_to_latex(hgate.to_matrix())"
   ]
  },
  {
   "cell_type": "markdown",
   "id": "1d62d7fd",
   "metadata": {
    "pycharm": {
     "name": "#%% md\n"
    },
    "slideshow": {
     "slide_type": "slide"
    }
   },
   "source": [
    "**for an H gate applied to a qubit in state 0**\n",
    "\n",
    "Dirac notation: $H|0\\rangle$ = $|+\\rangle$ = $\\frac{1}{\\sqrt{2}}(|0\\rangle + |1\\rangle)$\n",
    "\n",
    "Matrix: $ \\frac{1}{\\sqrt{2}}\\begin{bmatrix} 1 & 1 \\\\ 1 & -1 \\end{bmatrix} \\begin{bmatrix} 1 \\\\ 0 \\end{bmatrix} = \\frac{1}{\\sqrt{2}}\\begin{bmatrix} 1 \\\\ 1 \\end{bmatrix}$\n",
    "\n",
    "\n",
    "**for an H gate applied to a qubit in state 1**\n",
    "\n",
    "Dirac notation: $H|1\\rangle$ = $|-\\rangle$ = $\\frac{1}{\\sqrt{2}}(|0\\rangle - |1\\rangle)$\n",
    "\n",
    "Matrix: $ \\frac{1}{\\sqrt{2}}\\begin{bmatrix} 1 & 1 \\\\ 1 & -1 \\end{bmatrix} \\begin{bmatrix} 0 \\\\ 1 \\end{bmatrix} = \\frac{1}{\\sqrt{2}}\\begin{bmatrix} 1 \\\\ -1 \\end{bmatrix}$"
   ]
  },
  {
   "cell_type": "code",
   "execution_count": null,
   "id": "9a7f08cb",
   "metadata": {
    "pycharm": {
     "is_executing": true,
     "name": "#%%\n"
    },
    "slideshow": {
     "slide_type": "slide"
    }
   },
   "outputs": [],
   "source": [
    "qc_h = QuantumCircuit(1,1)\n",
    "qc_h.h(0)\n",
    "qc_h.draw('mpl', scale=1.5)"
   ]
  },
  {
   "cell_type": "code",
   "execution_count": null,
   "id": "f274f720",
   "metadata": {
    "pycharm": {
     "is_executing": true,
     "name": "#%%\n"
    },
    "slideshow": {
     "slide_type": "fragment"
    }
   },
   "outputs": [],
   "source": [
    "state = Statevector(qc_h)\n",
    "plot_bloch_multivector(state)"
   ]
  },
  {
   "cell_type": "code",
   "execution_count": null,
   "id": "0c5677cc",
   "metadata": {
    "pycharm": {
     "is_executing": true,
     "name": "#%%\n"
    },
    "slideshow": {
     "slide_type": "slide"
    }
   },
   "outputs": [],
   "source": [
    "qc_h.measure([0],[0])\n",
    "\n",
    "with Session(service=service, backend=backend):\n",
    "    sampler = Sampler(options=options)\n",
    "    job = sampler.run(qc_h)\n",
    "\n",
    "result_prob = job.result().quasi_dists[0].binary_probabilities()\n",
    "plot_histogram(result_prob)"
   ]
  },
  {
   "cell_type": "markdown",
   "id": "8fdec4e6",
   "metadata": {
    "pycharm": {
     "name": "#%% md\n"
    },
    "slideshow": {
     "slide_type": "slide"
    }
   },
   "source": [
    "## Error mitigation\n",
    "\n",
    "- There are techniques that allow some of the quantum errors to be mitigated.\n",
    "- Some are simple (low cost) others can be quite complex (exponential cost).\n",
    "- Primitives have a very simple knob to allow choosing different mitigation levels."
   ]
  },
  {
   "cell_type": "code",
   "execution_count": null,
   "id": "c93af1c2",
   "metadata": {
    "pycharm": {
     "is_executing": true,
     "name": "#%%\n"
    },
    "slideshow": {
     "slide_type": "fragment"
    }
   },
   "outputs": [],
   "source": [
    "options.resilience_level = 1  # add in M3 measurement mitigation\n",
    "\n",
    "with Session(service=service, backend=backend):\n",
    "    sampler = Sampler(options=options)\n",
    "    job = sampler.run(qc_h)\n",
    "\n",
    "result_prob = job.result().quasi_dists[0].binary_probabilities()\n",
    "plot_histogram(result_prob)"
   ]
  },
  {
   "cell_type": "markdown",
   "id": "eb071be8",
   "metadata": {
    "pycharm": {
     "name": "#%% md\n"
    },
    "slideshow": {
     "slide_type": "slide"
    }
   },
   "source": [
    "## Controlled-Not gate\n",
    "This gate can be referred to as CNOT or CX. This 2-qubit gate applies a bit flip on one qubit depending on the state of another qubit.\n"
   ]
  },
  {
   "cell_type": "code",
   "execution_count": null,
   "id": "4977b77e",
   "metadata": {
    "pycharm": {
     "is_executing": true,
     "name": "#%%\n"
    },
    "slideshow": {
     "slide_type": "-"
    }
   },
   "outputs": [],
   "source": [
    "qc_cx = QuantumCircuit(2)\n",
    "qc_cx.cx(0,1)\n",
    "qc_cx.draw('mpl')"
   ]
  },
  {
   "cell_type": "markdown",
   "id": "7845a036",
   "metadata": {
    "pycharm": {
     "name": "#%% md\n"
    },
    "slideshow": {
     "slide_type": "fragment"
    }
   },
   "source": [
    "If $q_0 = |1\\rangle$, $q_1$ flips  \n",
    "if $q_0 = |0\\rangle$, $q_1$ doesn't flip\n",
    "\n",
    "\n",
    "so if $q_0 = |1\\rangle$, then if $q_1$ was $|0\\rangle$ it will become $|1\\rangle$, if $q_1$ was $|1\\rangle$ it will become $|0\\rangle$   \n",
    "and if $q_0 = |0\\rangle$, then $q_1$ is unchanged\n",
    "\n",
    "Dirac notation:\n",
    "$CNOT|00\\rangle = |00\\rangle$\n",
    "$CNOT|10\\rangle = |11\\rangle$"
   ]
  },
  {
   "cell_type": "markdown",
   "id": "49e846ba",
   "metadata": {
    "pycharm": {
     "name": "#%% md\n"
    },
    "slideshow": {
     "slide_type": "slide"
    }
   },
   "source": [
    "## Matrix representation\n",
    "* Because it applies to two qubits, the matrix is 4 x 4.  \n",
    "* This is an entangling operation -- it cannot be represented by two separate qubit states.\n"
   ]
  },
  {
   "cell_type": "code",
   "execution_count": null,
   "id": "7bbf1990",
   "metadata": {
    "pycharm": {
     "is_executing": true,
     "name": "#%%\n"
    },
    "scrolled": true,
    "slideshow": {
     "slide_type": "-"
    }
   },
   "outputs": [],
   "source": [
    "print('CX (2q gate)')\n",
    "cxgate = CXGate()\n",
    "array_to_latex(cxgate.to_matrix())"
   ]
  },
  {
   "cell_type": "markdown",
   "id": "c1ecb917",
   "metadata": {
    "pycharm": {
     "name": "#%% md\n"
    },
    "slideshow": {
     "slide_type": "slide"
    }
   },
   "source": [
    "## Basic 2-qubit circuit"
   ]
  },
  {
   "cell_type": "code",
   "execution_count": null,
   "id": "1d32d8ab",
   "metadata": {
    "pycharm": {
     "is_executing": true,
     "name": "#%%\n"
    }
   },
   "outputs": [],
   "source": [
    "qc2 = QuantumCircuit(2, 2)\n",
    "qc2.h(0)\n",
    "qc2.h(1)\n",
    "qc2.draw('mpl', scale=1.5)"
   ]
  },
  {
   "cell_type": "code",
   "execution_count": null,
   "id": "92c84afe",
   "metadata": {
    "pycharm": {
     "is_executing": true,
     "name": "#%%\n"
    },
    "slideshow": {
     "slide_type": "fragment"
    }
   },
   "outputs": [],
   "source": [
    "state = Statevector(qc2)\n",
    "plot_bloch_multivector(state)"
   ]
  },
  {
   "cell_type": "code",
   "execution_count": null,
   "id": "fdc51bf7",
   "metadata": {
    "pycharm": {
     "is_executing": true,
     "name": "#%%\n"
    },
    "slideshow": {
     "slide_type": "slide"
    }
   },
   "outputs": [],
   "source": [
    "qc2.measure([0,1],[0,1])\n",
    "\n",
    "options.resilience_level = 0  # no error mitigation\n",
    "\n",
    "with Session(service=service, backend=backend):\n",
    "    sampler = Sampler(options=options)\n",
    "    job = sampler.run(qc2)\n",
    "\n",
    "result_prob = job.result().quasi_dists[0].binary_probabilities()\n",
    "plot_histogram(result_prob)"
   ]
  },
  {
   "cell_type": "markdown",
   "id": "4a6ef1ab",
   "metadata": {
    "pycharm": {
     "name": "#%% md\n"
    },
    "slideshow": {
     "slide_type": "fragment"
    }
   },
   "source": [
    "* Expected that we should have equal distribution of all states.  \n",
    "* Again physical noise is a problem!"
   ]
  },
  {
   "cell_type": "code",
   "execution_count": null,
   "id": "d567cb7a",
   "metadata": {
    "pycharm": {
     "is_executing": true,
     "name": "#%%\n"
    },
    "slideshow": {
     "slide_type": "slide"
    }
   },
   "outputs": [],
   "source": [
    "options.resilience_level = 1  # add in M3 measurement mitigation\n",
    "\n",
    "with Session(service=service, backend=backend):\n",
    "    sampler = Sampler(options=options)\n",
    "    job = sampler.run(qc2)\n",
    "\n",
    "result_prob = job.result().quasi_dists[0].binary_probabilities()\n",
    "plot_histogram(result_prob)"
   ]
  },
  {
   "cell_type": "markdown",
   "id": "6a72eaca",
   "metadata": {
    "pycharm": {
     "name": "#%% md\n"
    },
    "slideshow": {
     "slide_type": "fragment"
    }
   },
   "source": [
    "Using error mitigation, the results are much closer to ideal outcome."
   ]
  },
  {
   "cell_type": "markdown",
   "id": "192fb9ae",
   "metadata": {
    "pycharm": {
     "name": "#%% md\n"
    },
    "slideshow": {
     "slide_type": "slide"
    }
   },
   "source": [
    "## The Bell state\n",
    "\n",
    "- Simplest implementation of entanglement.\n",
    "- Apply a Hadamard on $q_0$ followed by a CNOT: control = $q_0$, target = $q_1$\n",
    "\n",
    "$$ |\\phi_{\\text{Bell}}\\rangle = \\frac{1}{\\sqrt{2}}(|00\\rangle + |11\\rangle) $$"
   ]
  },
  {
   "cell_type": "markdown",
   "id": "16c5d8a1",
   "metadata": {
    "pycharm": {
     "name": "#%% md\n"
    },
    "slideshow": {
     "slide_type": "slide"
    }
   },
   "source": [
    "## Circuit construction"
   ]
  },
  {
   "cell_type": "code",
   "execution_count": null,
   "id": "e44cc41d",
   "metadata": {
    "pycharm": {
     "is_executing": true,
     "name": "#%%\n"
    }
   },
   "outputs": [],
   "source": [
    "qc_bell = QuantumCircuit(2, 2)\n",
    "qc_bell.h(0)\n",
    "qc_bell.cx(0,1)\n",
    "qc_bell.draw('mpl')"
   ]
  },
  {
   "cell_type": "code",
   "execution_count": null,
   "id": "7737dbca",
   "metadata": {
    "pycharm": {
     "is_executing": true,
     "name": "#%%\n"
    },
    "slideshow": {
     "slide_type": "fragment"
    }
   },
   "outputs": [],
   "source": [
    "state = Statevector(qc_bell)\n",
    "plot_bloch_multivector(state)"
   ]
  },
  {
   "cell_type": "markdown",
   "id": "a6c62801",
   "metadata": {
    "pycharm": {
     "name": "#%% md\n"
    },
    "slideshow": {
     "slide_type": "fragment"
    }
   },
   "source": [
    "Whoops!  We can't visualize this state!"
   ]
  },
  {
   "cell_type": "markdown",
   "id": "77b39e28",
   "metadata": {
    "pycharm": {
     "name": "#%% md\n"
    },
    "slideshow": {
     "slide_type": "slide"
    }
   },
   "source": [
    "## Let's check the measurement statistics"
   ]
  },
  {
   "cell_type": "code",
   "execution_count": null,
   "id": "ee8ce5a9",
   "metadata": {
    "pycharm": {
     "is_executing": true,
     "name": "#%%\n"
    },
    "slideshow": {
     "slide_type": "-"
    }
   },
   "outputs": [],
   "source": [
    "qc_bell.measure([0,1],[0,1]) # add the measurement\n",
    "options.resilience_level = 0  # no mitigation\n",
    "\n",
    "with Session(service=service, backend=backend):\n",
    "    sampler = Sampler(options=options)\n",
    "    job = sampler.run(qc_bell)\n",
    "\n",
    "result_prob = job.result().quasi_dists[0].binary_probabilities()\n",
    "plot_histogram(result_prob)"
   ]
  },
  {
   "cell_type": "markdown",
   "id": "5b9cd4c0",
   "metadata": {
    "pycharm": {
     "name": "#%% md\n"
    },
    "slideshow": {
     "slide_type": "slide"
    }
   },
   "source": [
    "## Use error mitigation to improve the result"
   ]
  },
  {
   "cell_type": "code",
   "execution_count": null,
   "id": "43aba69e",
   "metadata": {
    "pycharm": {
     "is_executing": true,
     "name": "#%%\n"
    },
    "slideshow": {
     "slide_type": "-"
    }
   },
   "outputs": [],
   "source": [
    "options.resilience_level = 1  # add in M3 measurement mitigation\n",
    "\n",
    "with Session(service=service, backend=backend):\n",
    "    sampler = Sampler(options=options)\n",
    "    job = sampler.run(qc_bell)\n",
    "\n",
    "result_prob = job.result().quasi_dists[0].binary_probabilities()\n",
    "plot_histogram(result_prob)"
   ]
  },
  {
   "cell_type": "code",
   "execution_count": null,
   "id": "97654b6f",
   "metadata": {
    "pycharm": {
     "is_executing": true,
     "name": "#%%\n"
    },
    "slideshow": {
     "slide_type": "fragment"
    }
   },
   "outputs": [],
   "source": [
    "print(result_prob)"
   ]
  },
  {
   "cell_type": "markdown",
   "id": "e0f4539d",
   "metadata": {
    "pycharm": {
     "name": "#%% md\n"
    },
    "slideshow": {
     "slide_type": "slide"
    }
   },
   "source": [
    "## Run your Bell state on real hardware"
   ]
  },
  {
   "cell_type": "code",
   "execution_count": null,
   "id": "7e7458aa",
   "metadata": {
    "pycharm": {
     "is_executing": true,
     "name": "#%%\n"
    }
   },
   "outputs": [],
   "source": [
    "least_busy_device = service.least_busy(filters=lambda b: b.configuration().simulator==False)\n",
    "least_busy_device"
   ]
  },
  {
   "cell_type": "code",
   "execution_count": null,
   "id": "4855137d",
   "metadata": {
    "pycharm": {
     "is_executing": true,
     "name": "#%%\n"
    }
   },
   "outputs": [],
   "source": [
    "hw_result = None\n",
    "with Session(service, backend=least_busy_device) as session:\n",
    "    \n",
    "    options = Options(resilience_level=0)\n",
    "    sampler0 = Sampler(options=options)\n",
    "    options = Options(resilience_level=1)\n",
    "    sampler1 = Sampler(options=options)\n",
    "    job0 = sampler0.run(circuits=[qc_bell], shots=8000)\n",
    "    job1 = sampler1.run(circuits=[qc_bell], shots=8000)\n",
    "    \n",
    "    # You can see that the results are quasi probabilities, not counts\n",
    "    hw_results = [job0.result().quasi_dists[0].binary_probabilities(), \n",
    "                  job1.result().quasi_dists[0].binary_probabilities()]"
   ]
  },
  {
   "cell_type": "markdown",
   "id": "9923995e",
   "metadata": {
    "pycharm": {
     "name": "#%% md\n"
    },
    "slideshow": {
     "slide_type": "slide"
    }
   },
   "source": [
    "## Results"
   ]
  },
  {
   "cell_type": "code",
   "execution_count": null,
   "id": "ffdb4474",
   "metadata": {
    "pycharm": {
     "is_executing": true,
     "name": "#%%\n"
    },
    "slideshow": {
     "slide_type": "-"
    }
   },
   "outputs": [],
   "source": [
    "print('Results resilience level 0 ', hw_results[0])\n",
    "print('Results resilience level 1 ', hw_results[1])"
   ]
  },
  {
   "cell_type": "code",
   "execution_count": null,
   "id": "a620d893",
   "metadata": {
    "pycharm": {
     "is_executing": true,
     "name": "#%%\n"
    }
   },
   "outputs": [],
   "source": [
    "plot_histogram(hw_results, legend=['resilience 0', 'resilience 1'])"
   ]
  },
  {
   "cell_type": "markdown",
   "id": "1c21b121",
   "metadata": {
    "pycharm": {
     "name": "#%% md\n"
    },
    "slideshow": {
     "slide_type": "slide"
    }
   },
   "source": [
    "## To learn more"
   ]
  },
  {
   "cell_type": "markdown",
   "id": "3fe48c6f",
   "metadata": {
    "pycharm": {
     "name": "#%% md\n"
    }
   },
   "source": [
    "* Qiskit textbook  https://qiskit.org/learn/\n",
    "* Qiskit tutorials https://qiskit.org/documentation/partners/qiskit_ibm_runtime/tutorials.html\n",
    "* Applications tutorials:\n",
    "    * Qiskit Nature: https://github.com/Qiskit/qiskit-nature/tree/main/docs/tutorials\n",
    "    * Qiskit Optimization: https://github.com/Qiskit/qiskit-optimization/tree/main/docs/tutorials\n",
    "    * Qiskit Machine Learning: https://github.com/Qiskit/qiskit-machine-learning/tree/main/docs/tutorials\n",
    "    * Qiskit Finance: https://github.com/Qiskit/qiskit-finance/tree/main/docs/tutorials\n",
    "* Additional notebooks in the Quantum Lab\n"
   ]
  },
  {
   "cell_type": "markdown",
   "id": "f2b79b72",
   "metadata": {
    "pycharm": {
     "name": "#%% md\n"
    },
    "slideshow": {
     "slide_type": "slide"
    }
   },
   "source": [
    "<center>\n",
    "<img src=\"IBM-Quantum.jpg\" alt=\"IBM Quantum\" width=\"600\"/>\n",
    "</center>"
   ]
  }
 ],
 "metadata": {
  "celltoolbar": "Slideshow",
  "kernelspec": {
   "display_name": "QiskitDevenv",
   "language": "python",
   "name": "qiskitdevenv"
  },
  "language_info": {
   "codemirror_mode": {
    "name": "ipython",
    "version": 3
   },
   "file_extension": ".py",
   "mimetype": "text/x-python",
   "name": "python",
   "nbconvert_exporter": "python",
   "pygments_lexer": "ipython3",
   "version": "3.10.4"
  }
 },
 "nbformat": 4,
 "nbformat_minor": 5
}
